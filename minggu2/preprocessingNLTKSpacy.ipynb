{
 "cells": [
  {
   "cell_type": "code",
   "execution_count": null,
   "metadata": {},
   "outputs": [],
   "source": [
    "# 2. Pra-pemrosesan Data Menggunakan NLTK dan spaCy\n",
    "\n",
    "# Tugas: Anda diminta untuk memproses teks dengan dua teknik berbeda:\n",
    "\n",
    "# NLTK: Gunakan 03-Preprocessing_nltk.ipynb untuk melakukan tokenisasi, stopwords removal, dan stemming pada dataset.\n",
    "\n",
    "# spaCy: Gunakan 04-Preprocessing_spacy.ipynb untuk melakukan tokenisasi, lemmatization, dan normalisasi teks.\n",
    "\n",
    "# Hasil: Simpan data hasil pra-pemrosesan dalam format CSV baru (contoh: dataset_nltk.csv dan dataset_spacy.csv)."
   ]
  }
 ],
 "metadata": {
  "language_info": {
   "name": "python"
  }
 },
 "nbformat": 4,
 "nbformat_minor": 2
}
